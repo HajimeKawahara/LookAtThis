{
 "cells": [
  {
   "cell_type": "markdown",
   "metadata": {},
   "source": [
    "# HIP 11253 (02249+3039A,B)"
   ]
  },
  {
   "cell_type": "code",
   "execution_count": null,
   "metadata": {},
   "outputs": [],
   "source": [
    "# install https://github.com/vortex-exoplanet/PyAstrOFit"
   ]
  },
  {
   "cell_type": "code",
   "execution_count": 1,
   "metadata": {},
   "outputs": [
    {
     "name": "stdout",
     "output_type": "stream",
     "text": [
      "________                      _                                  ____    ________\n",
      "`MMMMMMMb.                   dM.                                6MMMMb   `MMMMMMM 68b\n",
      " MM    `Mb                  ,MMb                /              8P    Y8   MM    \\ Y89   /\n",
      " MM     MM ____    ___      d'YM.      ____    /M     ___  __ 6M      Mb  MM      ___  /M\n",
      " MM     MM `MM(    )M'     ,P `Mb     6MMMMb\\ /MMMMM  `MM 6MM MM      MM  MM   ,  `MM /MMMMM\n",
      " MM    .M9  `Mb    d'      d'  YM.   MM'    `  MM      MM69   MM      MM  MMMMMM   MM  MM\n",
      " MMMMMMM9'   YM.  ,P      ,P   `Mb   YM.       MM      MM'    MM      MM  MM   `   MM  MM\n",
      " MM           MM  M       d'    YM.   YMMMMb   MM      MM     MM      MM  MM       MM  MM\n",
      " MM           `Mbd'      ,MMMMMMMMb       `Mb  MM      MM     YM      M9  MM       MM  MM\n",
      " MM            YMP       d'      YM. L    ,MM  YM.  ,  MM      8b    d8   MM       MM  YM.  ,\n",
      "_MM_            M      _dM_     _dMM_MYMMMM9    YMMM9 _MM_      YMMMM9   _MM_     _MM_  YMMM9\n",
      "               d\n",
      "           (8),P\n",
      "            YMM\n"
     ]
    }
   ],
   "source": [
    "from __future__ import print_function\n",
    "import PyAstrOFit.Orbit as Orbit\n",
    "import numpy as np\n",
    "from astropy.time import Time\n",
    "from PyAstrOFit.Toolbox import timeConverter\n",
    "from astropy import units as u\n",
    "from astropy.coordinates import SkyCoord\n",
    "%matplotlib inline\n",
    "%load_ext autoreload\n",
    "%autoreload 2"
   ]
  },
  {
   "cell_type": "markdown",
   "metadata": {},
   "source": [
    "### Instanciate an orbit object"
   ]
  },
  {
   "cell_type": "code",
   "execution_count": 2,
   "metadata": {},
   "outputs": [
    {
     "name": "stderr",
     "output_type": "stream",
     "text": [
      "WARNING: ErfaWarning: ERFA function \"dtf2d\" yielded 1 of \"dubious year (Note 6)\" [astropy._erfa.core]\n",
      "WARNING: ErfaWarning: ERFA function \"utctai\" yielded 1 of \"dubious year (Note 3)\" [astropy._erfa.core]\n",
      "WARNING: ErfaWarning: ERFA function \"taiutc\" yielded 1 of \"dubious year (Note 4)\" [astropy._erfa.core]\n"
     ]
    }
   ],
   "source": [
    "par=18.9878 #parallax mas\n",
    "asec= 0.271 #a [arcsec]\n",
    "a = asec/(par*1.e-3)        #[A.U.]\n",
    "e = 0.89\n",
    "i = 133.5       #[deg]\n",
    "node = 214.8    #[deg]\n",
    "w = 110.3      #[deg]\n",
    "t = Time(2026.5,format='decimalyear')\n",
    "tp=t.jd #[JD]\n",
    "P = 43.2 #[yr] +-2.7\n",
    "starDistance = 1/(par*1.e-3) #[pc]"
   ]
  },
  {
   "cell_type": "code",
   "execution_count": 3,
   "metadata": {},
   "outputs": [],
   "source": [
    "target = Orbit(semiMajorAxis = a,\n",
    "                   eccentricity = e,\n",
    "                   inclinaison = i,\n",
    "                   longitudeAscendingNode = node,\n",
    "                   periastron = w,\n",
    "                   periastronTime = tp,\n",
    "                   dStar = starDistance,\n",
    "                   period=P)"
   ]
  },
  {
   "cell_type": "code",
   "execution_count": 7,
   "metadata": {},
   "outputs": [
    {
     "name": "stdout",
     "output_type": "stream",
     "text": [
      "<SkyCoord (ICRS): (ra, dec) in deg\n",
      "    (36.21306096, 30.64675195)>\n",
      "-0.24997310661504762 -0.0929642arcsec\n"
     ]
    }
   ],
   "source": [
    "#convert \n",
    "\n",
    "c1 = SkyCoord('02h24m51.1540s', '+30d38m48.40s',frame='icrs')\n",
    "\n",
    "def seppa2dradec(sep,PA):\n",
    "    #sep mas, PA=deg\n",
    "    PAu = PA * u.deg\n",
    "    sepu = sep/3600*1.e-3 * u.deg\n",
    "    print(c1.directional_offset_by(PAu,sepu))\n",
    "    return c1.directional_offset_by(PAu,sepu)\n",
    "\n",
    "sep=266.7\n",
    "pa=249.6 #deg\n",
    "dra, ddec = c1.spherical_offsets_to(seppa2dradec(sep,pa))\n",
    "print(dra.to(u.arcsec),ddec.to(u.arcsec))"
   ]
  },
  {
   "cell_type": "markdown",
   "metadata": {},
   "source": [
    "#### Position at specific observation dates"
   ]
  },
  {
   "cell_type": "code",
   "execution_count": 9,
   "metadata": {},
   "outputs": [
    {
     "data": {
      "image/png": "[encoded data removed]",
      "text/plain": [
       "<Figure size 720x720 with 1 Axes>"
      ]
     },
     "metadata": {
      "needs_background": "light"
     },
     "output_type": "display_data"
    }
   ],
   "source": [
    "#data_RA,data_DEC,err_RA,err_DEC\n",
    "observation_dates=['2020-08-05 2:00:00']\n",
    "target.showOrbit(pointOfView = 'earth', \n",
    "                   unit = 'arcsec', \n",
    "                   figsize = (10,10), \n",
    "                   title = [r'HIP 11253',20],\n",
    "                   addPosition = observation_dates,\n",
    "                addPoints = [[dra.to(u.arcsec).value],[ddec.to(u.arcsec).value],[0.02],[0.02]], \n",
    "                 #addPoints = [[-0.2496636],[-0.0865443],[0.02],[0.02]],\n",
    "                 addPosition_options={'marker':'*',\n",
    "                                        'markerfacecolor':(0,0.38,1.),\n",
    "                                        'markeredgecolor':(0,0.38,1.),\n",
    "                                        'markersize':8},)"
   ]
  },
  {
   "cell_type": "code",
   "execution_count": 12,
   "metadata": {},
   "outputs": [],
   "source": [
    "# PA and separation prediction\n",
    "\n",
    "pos = timeConverter(time='2020-09-04 2:00:00')\n",
    "ta1 = target.trueAnomaly(pos)\n",
    "point = target.positionOnOrbit(ta1,\"earth\",\"arcsec\")\n",
    "coord1 = SkyCoord(0*u.arcsec, 0*u.arcsec, frame='icrs')\n",
    "coord2 = SkyCoord(point['raPosition']*u.arcsec, point['decPosition']*u.arcsec, frame='icrs')\n",
    "\n",
    "pa_pre = coord1.position_angle(coord2).to(u.deg)\n",
    "sep_pre = coord1.separation(coord2).to(u.arcsec)"
   ]
  },
  {
   "cell_type": "code",
   "execution_count": 13,
   "metadata": {},
   "outputs": [
    {
     "data": {
      "text/plain": [
       "(<Angle 250.65384976 deg>, <Angle 0.26252036 arcsec>)"
      ]
     },
     "execution_count": 13,
     "metadata": {},
     "output_type": "execute_result"
    }
   ],
   "source": [
    "pa_pre,sep_pre"
   ]
  },
  {
   "cell_type": "code",
   "execution_count": null,
   "metadata": {},
   "outputs": [],
   "source": []
  }
 ],
 "metadata": {
  "kernelspec": {
   "display_name": "Python 3",
   "language": "python",
   "name": "python3"
  },
  "language_info": {
   "codemirror_mode": {
    "name": "ipython",
    "version": 3
   },
   "file_extension": ".py",
   "mimetype": "text/x-python",
   "name": "python",
   "nbconvert_exporter": "python",
   "pygments_lexer": "ipython3",
   "version": "3.7.3"
  }
 },
 "nbformat": 4,
 "nbformat_minor": 1
}
